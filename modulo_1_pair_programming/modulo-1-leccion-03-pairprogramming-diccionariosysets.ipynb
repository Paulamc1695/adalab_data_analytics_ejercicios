{
 "cells": [
  {
   "cell_type": "markdown",
   "metadata": {},
   "source": [
    "DICCIONARIOS. EJERCICIOS"
   ]
  },
  {
   "cell_type": "markdown",
   "metadata": {},
   "source": [
    "#1. Crear un diccionario vacío\n",
    "\n",
    "Descripción: Crea un diccionario vacío sin ningún par clave-valor."
   ]
  },
  {
   "cell_type": "code",
   "execution_count": null,
   "metadata": {},
   "outputs": [],
   "source": [
    "diccionario_vacio = {}"
   ]
  },
  {
   "cell_type": "markdown",
   "metadata": {},
   "source": [
    "#2. Crear un diccionario con elementos\n",
    "\n",
    "Descripción: Crea un diccionario con pares clave-valor predefinidos. Definir el diccionario con las claves y valores que querais. NOTA El diccionario debe tener al menos 5 pares de clave:valor."
   ]
  },
  {
   "cell_type": "code",
   "execution_count": null,
   "metadata": {},
   "outputs": [],
   "source": [
    "comida = {\"fruta\":\"manzana\",\"legumbre\":\"lentejas\",\"cereal\":\"maiz\",\"hortaliza\":\"lechuga\",\"tuberculo\":\"patata\"}"
   ]
  },
  {
   "cell_type": "markdown",
   "metadata": {},
   "source": [
    "\n",
    "#3. Acceder al valor de una clave en un diccionario\n",
    "\n",
    "Descripción: Usando el diccionario creado en el paso anterior, obtén el valor correspondiente a una clave específica que indique el usuario (debereis usar la función input() para preguntar al usuario)."
   ]
  },
  {
   "cell_type": "code",
   "execution_count": 24,
   "metadata": {},
   "outputs": [
    {
     "name": "stdout",
     "output_type": "stream",
     "text": [
      "maiz\n"
     ]
    }
   ],
   "source": [
    "comida = {\"fruta\":\"manzana\",\"legumbre\":\"lentejas\",\"cereal\":\"maiz\",\"hortaliza\":\"lechuga\",\"tuberculo\":\"patata\"}\n",
    "\n",
    "clave = input(\"Introduce la clave que deseas buscar:\")\n",
    "valor = comida.get(clave, \"Clave no encontrada\")\n",
    "\n",
    "print(valor)"
   ]
  },
  {
   "cell_type": "markdown",
   "metadata": {},
   "source": [
    "#4. Agregar un nuevo par clave-valor a un diccionario\n",
    "\n",
    "Descripción: Usando el diccionario creado en el ejercicio 2, agrega un nuevo par clave-valor."
   ]
  },
  {
   "cell_type": "code",
   "execution_count": 27,
   "metadata": {},
   "outputs": [
    {
     "name": "stdout",
     "output_type": "stream",
     "text": [
      "El nuevo clave-valor añadido es dulce:chocolate {'fruta': 'manzana', 'legumbre': 'lentejas', 'cereal': 'maiz', 'hortaliza': 'lechuga', 'tuberculo': 'patata', 'dulce': 'chocolate'}\n"
     ]
    }
   ],
   "source": [
    "comida = {\"fruta\":\"manzana\",\"legumbre\":\"lentejas\",\"cereal\":\"maiz\",\"hortaliza\":\"lechuga\",\"tuberculo\":\"patata\"}\n",
    "\n",
    "comida.update({\"dulce\":\"chocolate\"})\n",
    "print(\"El nuevo clave-valor añadido es dulce:chocolate\",comida)"
   ]
  },
  {
   "cell_type": "markdown",
   "metadata": {},
   "source": []
  },
  {
   "cell_type": "markdown",
   "metadata": {},
   "source": [
    "#5.Actualizar el valor de una clave en un diccionario\n",
    "\n",
    "Descripción: Usando el diccionario creado en el ejercicio 2, actualiza el valor correspondiente a una clave existente. Ejemplo:"
   ]
  },
  {
   "cell_type": "code",
   "execution_count": 29,
   "metadata": {},
   "outputs": [
    {
     "name": "stdout",
     "output_type": "stream",
     "text": [
      "El valor actualizado de dulce es: helado {'fruta': 'manzana', 'legumbre': 'lentejas', 'cereal': 'maiz', 'hortaliza': 'lechuga', 'tuberculo': 'patata', 'dulce': 'helado'}\n"
     ]
    }
   ],
   "source": [
    "comida = {\"fruta\":\"manzana\",\"legumbre\":\"lentejas\",\"cereal\":\"maiz\",\"hortaliza\":\"lechuga\",\"tuberculo\":\"patata\"}\n",
    "\n",
    "comida.update({\"dulce\":\"helado\"})\n",
    "print(\"El valor actualizado de dulce es: helado\",comida)"
   ]
  },
  {
   "cell_type": "markdown",
   "metadata": {},
   "source": [
    "#6. Eliminar un par clave-valor de un diccionario\n",
    "\n",
    "Descripción: Usando el diccionario creado en el ejercicio 2, elimina un par clave-valor específico que indique el usuario (debereis usar la función input() para preguntar al usuario)."
   ]
  },
  {
   "cell_type": "code",
   "execution_count": 35,
   "metadata": {},
   "outputs": [
    {
     "name": "stdout",
     "output_type": "stream",
     "text": [
      "manzana\n"
     ]
    }
   ],
   "source": [
    "comida = {\"fruta\":\"manzana\",\"legumbre\":\"lentejas\",\"cereal\":\"maiz\",\"hortaliza\":\"lechuga\",\"tuberculo\":\"patata\"}\n",
    "\n",
    "clave = input(\"Introduce la clave que deseas eliminar: \")\n",
    "valor= comida.pop(clave,\"Clave no encontrada\")\n",
    "\n",
    "print(valor)\n"
   ]
  },
  {
   "cell_type": "markdown",
   "metadata": {},
   "source": [
    "#7. Verificar si una clave está presente en un diccionario\n",
    "\n",
    "Descripción: Usando el diccionario creado en el ejercicio 2, verifica si una clave específica está presente en él. La clave a buscar debe ser pasada por el usuario, debereis usar un input()."
   ]
  },
  {
   "cell_type": "code",
   "execution_count": 40,
   "metadata": {},
   "outputs": [
    {
     "name": "stdout",
     "output_type": "stream",
     "text": [
      "False\n"
     ]
    }
   ],
   "source": [
    "comida = {\"fruta\":\"manzana\",\"legumbre\":\"lentejas\",\"cereal\":\"maiz\",\"hortaliza\":\"lechuga\",\"tuberculo\":\"patata\"}\n",
    "\n",
    "clave = input(\"Introduce la clave que deseas encontrar: \")\n",
    "valor = comida.get(clave) in clave\n",
    "\n",
    "print(valor)"
   ]
  },
  {
   "cell_type": "markdown",
   "metadata": {},
   "source": [
    "#8. Obtener una lista de todas las claves de un diccionario\n",
    "\n",
    "Descripción: Usando el diccionario creado en el ejercicio 2, obtén una lista con todas las claves que contiene."
   ]
  },
  {
   "cell_type": "code",
   "execution_count": 44,
   "metadata": {},
   "outputs": [
    {
     "name": "stdout",
     "output_type": "stream",
     "text": [
      "['fruta', 'legumbre', 'cereal', 'hortaliza', 'tuberculo']\n"
     ]
    }
   ],
   "source": [
    "comida = {\"fruta\":\"manzana\",\"legumbre\":\"lentejas\",\"cereal\":\"maiz\",\"hortaliza\":\"lechuga\",\"tuberculo\":\"patata\"}\n",
    "\n",
    "comida_nueva = list(comida.keys())\n",
    "\n",
    "print(comida_nueva)"
   ]
  },
  {
   "cell_type": "markdown",
   "metadata": {},
   "source": [
    "#9. Obtener una lista de todos los valores de un diccionario\n",
    "\n",
    "Descripción: Usando el diccionario creado en el ejercicio 2, obtén una lista con todos los valores que contiene."
   ]
  },
  {
   "cell_type": "code",
   "execution_count": 45,
   "metadata": {},
   "outputs": [
    {
     "name": "stdout",
     "output_type": "stream",
     "text": [
      "['manzana', 'lentejas', 'maiz', 'lechuga', 'patata']\n"
     ]
    }
   ],
   "source": [
    "comida = {\"fruta\":\"manzana\",\"legumbre\":\"lentejas\",\"cereal\":\"maiz\",\"hortaliza\":\"lechuga\",\"tuberculo\":\"patata\"}\n",
    "\n",
    "comida_nueva = list(comida.values())\n",
    "\n",
    "print(comida_nueva)"
   ]
  },
  {
   "cell_type": "markdown",
   "metadata": {},
   "source": [
    "#10. Utilizar el método setdefault() para establecer un valor predeterminado si la clave no existe\n",
    "\n",
    "Descripción: Usando el diccionario creado en el ejercicio 2, obten el valor correspondiente a una clave. Si la clave no existe, establece un valor predeterminado y devuelve dicho valor."
   ]
  },
  {
   "cell_type": "code",
   "execution_count": 6,
   "metadata": {},
   "outputs": [
    {
     "name": "stdout",
     "output_type": "stream",
     "text": [
      "Los valores de la clave 'dulce' es:  no existe\n",
      "El contenido del diccionario es: {'fruta': 'manzana', 'legumbre': 'lentejas', 'cereal': 'maiz', 'hortaliza': 'lechuga', 'tuberculo': 'patata', 'dulce': 'no existe'}\n"
     ]
    }
   ],
   "source": [
    "comida = {\"fruta\":\"manzana\",\"legumbre\":\"lentejas\",\"cereal\":\"maiz\",\"hortaliza\":\"lechuga\",\"tuberculo\":\"patata\"}\n",
    "\n",
    "print(\"Los valores de la clave 'dulce' es: \", comida.setdefault(\"dulce\", \"no existe\"))\n",
    "\n",
    "print(\"El contenido del diccionario es:\", comida)"
   ]
  },
  {
   "cell_type": "markdown",
   "metadata": {},
   "source": [
    "#11. Manipulación de un diccionario utilizando pop() y popitem()\n",
    "\n",
    "Descripción: Usando el diccionario creado en el ejercicio 2, realiza operaciones de eliminación utilizando pop() y popitem(), y observa cómo afectan al diccionario.\n",
    "\n"
   ]
  },
  {
   "cell_type": "code",
   "execution_count": 3,
   "metadata": {},
   "outputs": [
    {
     "name": "stdout",
     "output_type": "stream",
     "text": [
      "Eliminamos la clave de hortaliza en el diccionario comida:  lechuga\n",
      "El diccionario de comidas después de la eliminación queda de la siguiente manera:  {'fruta': 'manzana', 'legumbre': 'lentejas', 'cereal': 'maiz', 'tuberculo': 'patata'}\n",
      "Eliminamos EL ÚLTIMO PAR DE CLAVE-VALOR  del diccionario: ('tuberculo', 'patata')\n",
      "El diccionario comida se quda de la siguiente manera:  {'fruta': 'manzana', 'legumbre': 'lentejas', 'cereal': 'maiz'}\n"
     ]
    }
   ],
   "source": [
    "comida = {\"fruta\":\"manzana\",\"legumbre\":\"lentejas\",\"cereal\":\"maiz\",\"hortaliza\":\"lechuga\",\"tuberculo\":\"patata\"}\n",
    "\n",
    "print(\"Eliminamos la clave de hortaliza en el diccionario comida: \", comida.pop(\"hortaliza\"))\n",
    "print(\"El diccionario de comidas después de la eliminación queda de la siguiente manera: \", comida)\n",
    "\n",
    "\n",
    "print(\"Eliminamos EL ÚLTIMO PAR DE CLAVE-VALOR  del diccionario:\", comida.popitem())\n",
    "print(\"El diccionario comida se quda de la siguiente manera: \", comida)\n"
   ]
  },
  {
   "cell_type": "markdown",
   "metadata": {},
   "source": [
    "SETS. EJERCICIOS"
   ]
  },
  {
   "cell_type": "markdown",
   "metadata": {},
   "source": [
    "#1. Crear un conjunto vacío\n",
    "\n",
    "Descripción: Crea un conjunto vacío sin ningún elemento."
   ]
  },
  {
   "cell_type": "code",
   "execution_count": 1,
   "metadata": {},
   "outputs": [
    {
     "name": "stdout",
     "output_type": "stream",
     "text": [
      "{}\n"
     ]
    }
   ],
   "source": [
    "conjunto_vacio = {}\n",
    "print(conjunto_vacio)"
   ]
  },
  {
   "cell_type": "markdown",
   "metadata": {},
   "source": [
    "#2. Crear un conjunto con elementos\n",
    "\n",
    "Descripción: Crea un conjunto con elementos predefinidos."
   ]
  },
  {
   "cell_type": "code",
   "execution_count": 2,
   "metadata": {},
   "outputs": [
    {
     "name": "stdout",
     "output_type": "stream",
     "text": [
      "{'lunes', 'sábado', 'domingo', 'viernes', 'miércoles', 'martes', 'jueves'}\n"
     ]
    }
   ],
   "source": [
    "conjunto_elementos = {\"lunes\",\"martes\",\"miércoles\",\"jueves\",\"viernes\",\"sábado\",\"domingo\"}\n",
    "print(conjunto_elementos)"
   ]
  },
  {
   "cell_type": "markdown",
   "metadata": {},
   "source": [
    "#3. Agregar elementos a un conjunto\n",
    "\n",
    "Descripción: Usando el set creado en el ejercicio 2, agrega nuevos elementos. Debereis agregar por separado:\n",
    "\n",
    "Un elemento solo\n",
    "\n",
    "Un par de elementos a la vez."
   ]
  },
  {
   "cell_type": "code",
   "execution_count": 6,
   "metadata": {},
   "outputs": [
    {
     "name": "stdout",
     "output_type": "stream",
     "text": [
      "El elemento añadido al conjunto es: {'lunes', 'sábado', 'víspera', 'domingo', 'viernes', 'miércoles', 'martes', 'jueves'}\n",
      "Los elementos añadidos al conjunto son: {'viernes', 'festivo local', 'domingo', 'lunes', 'miércoles', 'martes', 'festivo nacional', 'sábado', 'jueves'}\n"
     ]
    }
   ],
   "source": [
    "conjunto_elementos = {\"lunes\",\"martes\",\"miércoles\",\"jueves\",\"viernes\",\"sábado\",\"domingo\"}\n",
    "\n",
    "conjunto_elementos.add(\"víspera\")\n",
    "print(\"El elemento añadido al conjunto es:\",conjunto_elementos)\n",
    "\n",
    "\n",
    "conjunto_elementos = {\"lunes\",\"martes\",\"miércoles\",\"jueves\",\"viernes\",\"sábado\",\"domingo\"}\n",
    "\n",
    "nuevos_elementos = [\"festivo nacional\",\"festivo local\"]\n",
    "\n",
    "conjunto_elementos.update(nuevos_elementos)\n",
    "\n",
    "print(\"Los elementos añadidos al conjunto son:\",conjunto_elementos)"
   ]
  },
  {
   "cell_type": "markdown",
   "metadata": {},
   "source": [
    "#4 Eliminar un elemento de un conjunto\n",
    "\n",
    "Descripción: Usando el set creado en el ejercicio 2, elimina un elemento especificado por el usuario."
   ]
  },
  {
   "cell_type": "code",
   "execution_count": 8,
   "metadata": {},
   "outputs": [
    {
     "name": "stdout",
     "output_type": "stream",
     "text": [
      "El elemento elimminado es: {'lunes', 'sábado', 'viernes', 'miércoles', 'martes', 'jueves'}\n"
     ]
    }
   ],
   "source": [
    "conjunto_elementos = {\"lunes\",\"martes\",\"miércoles\",\"jueves\",\"viernes\",\"sábado\",\"domingo\"}\n",
    "\n",
    "conjunto_elementos.discard(\"domingo\")\n",
    "\n",
    "print(\"El elemento elimminado es:\",conjunto_elementos)"
   ]
  },
  {
   "cell_type": "markdown",
   "metadata": {},
   "source": [
    "#5. Verificar la pertenencia de un elemento en un conjunto\n",
    "\n",
    "Descripción: Usando el set creado en el ejercicio 2, verifica si un elemento específico está presente en él."
   ]
  },
  {
   "cell_type": "code",
   "execution_count": 9,
   "metadata": {},
   "outputs": [
    {
     "name": "stdout",
     "output_type": "stream",
     "text": [
      "¿Está vísperas en la lista?: False\n"
     ]
    }
   ],
   "source": [
    "conjunto_elementos = {\"lunes\",\"martes\",\"miércoles\",\"jueves\",\"viernes\",\"sábado\",\"domingo\"}\n",
    "\n",
    "print(\"¿Está vísperas en la lista?:\", \"vísperas\" in conjunto_elementos)"
   ]
  },
  {
   "cell_type": "markdown",
   "metadata": {},
   "source": [
    "#6. Realizar una unión de conjuntos\n",
    "\n",
    "Descripción: Dados dos conjuntos, realiza una unión de ellos."
   ]
  },
  {
   "cell_type": "code",
   "execution_count": 10,
   "metadata": {},
   "outputs": [
    {
     "name": "stdout",
     "output_type": "stream",
     "text": [
      "La unión de los dos conjuntos es tal que así: {'lunes', 'febrero', 'viernes', 'miércoles', 'martes', 'enero', 'mayo', 'junio', 'abril', 'sábado', 'domingo', 'marzo', 'jueves'}\n"
     ]
    }
   ],
   "source": [
    "conjunto_elementos = {\"lunes\",\"martes\",\"miércoles\",\"jueves\",\"viernes\",\"sábado\",\"domingo\"}\n",
    "\n",
    "semestre = {\"enero\",\"febrero\",\"marzo\",\"abril\",\"mayo\",\"junio\"}\n",
    "\n",
    "union_sets = conjunto_elementos.union(semestre)\n",
    "\n",
    "print(\"La unión de los dos conjuntos es tal que así:\", union_sets)"
   ]
  },
  {
   "cell_type": "markdown",
   "metadata": {},
   "source": [
    "#7.Realizar una intersección de conjuntos\n",
    "\n",
    "Descripción: Usando dos conjuntos de datos definidos en el ejercicio anterior, realiza una intersección de ellos."
   ]
  },
  {
   "cell_type": "code",
   "execution_count": 13,
   "metadata": {},
   "outputs": [
    {
     "name": "stdout",
     "output_type": "stream",
     "text": [
      "La intersección de los dos conjuntos es tal que así: {'marzo', 'miércoles'}\n"
     ]
    }
   ],
   "source": [
    "conjunto_elementos2 = {\"lunes\",\"martes\",\"miércoles\",\"jueves\",\"viernes\",\"sábado\",\"domingo\",\"marzo\"}\n",
    "\n",
    "semestre2 = {\"enero\",\"febrero\",\"marzo\",\"abril\",\"mayo\",\"junio\",\"miércoles\"}\n",
    "\n",
    "interseccion_sets = conjunto_elementos2.intersection(semestre2)\n",
    "\n",
    "print(\"La intersección de los dos conjuntos es tal que así:\", interseccion_sets)\n"
   ]
  },
  {
   "cell_type": "markdown",
   "metadata": {},
   "source": [
    "#8. Realizar una diferencia de conjuntos\n",
    "\n",
    "Descripción: Usando dos conjuntos de datos definidos en el ejercicio anterior, realiza una diferencia entre ellos."
   ]
  },
  {
   "cell_type": "code",
   "execution_count": 15,
   "metadata": {},
   "outputs": [
    {
     "name": "stdout",
     "output_type": "stream",
     "text": [
      "La diferencia de los dos conjuntos es tal que así: {'lunes', 'viernes', 'martes', 'sábado', 'domingo', 'jueves'}\n"
     ]
    }
   ],
   "source": [
    "conjunto_elementos2 = {\"lunes\",\"martes\",\"miércoles\",\"jueves\",\"viernes\",\"sábado\",\"domingo\",\"marzo\"}\n",
    "\n",
    "semestre2 = {\"enero\",\"febrero\",\"marzo\",\"abril\",\"mayo\",\"junio\",\"miércoles\"}\n",
    "\n",
    "diferencia = conjunto_elementos2.difference(semestre2)\n",
    "\n",
    "print(\"La diferencia de los dos conjuntos es tal que así:\", diferencia)"
   ]
  },
  {
   "cell_type": "markdown",
   "metadata": {},
   "source": [
    "#9.  Verificar si un conjunto es subconjunto de otro\n",
    "\n",
    "Descripción: Dados dos conjuntos, verifica si uno es subconjunto del otro."
   ]
  },
  {
   "cell_type": "code",
   "execution_count": 16,
   "metadata": {},
   "outputs": [
    {
     "name": "stdout",
     "output_type": "stream",
     "text": [
      "¿semestre2 es subconjunto de conjunto_elemtos2? False\n"
     ]
    }
   ],
   "source": [
    "conjunto_elementos2 = {\"lunes\",\"martes\",\"miércoles\",\"jueves\",\"viernes\",\"sábado\",\"domingo\",\"marzo\"}\n",
    "\n",
    "semestre2 = {\"enero\",\"febrero\",\"marzo\",\"abril\",\"mayo\",\"junio\",\"miércoles\"}\n",
    "\n",
    "subconjunto = conjunto_elementos2.issubset(semestre2)\n",
    "\n",
    "print(\"¿semestre2 es subconjunto de conjunto_elemtos2?\", subconjunto)"
   ]
  }
 ],
 "metadata": {
  "kernelspec": {
   "display_name": "base",
   "language": "python",
   "name": "python3"
  },
  "language_info": {
   "codemirror_mode": {
    "name": "ipython",
    "version": 3
   },
   "file_extension": ".py",
   "mimetype": "text/x-python",
   "name": "python",
   "nbconvert_exporter": "python",
   "pygments_lexer": "ipython3",
   "version": "3.9.12"
  }
 },
 "nbformat": 4,
 "nbformat_minor": 2
}
