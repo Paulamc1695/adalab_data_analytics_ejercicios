{
 "cells": [
  {
   "cell_type": "markdown",
   "metadata": {},
   "source": [
    "\n",
    "1.Imprimir los números del 1 al 5 utilizando un bucle for\n",
    "\n",
    "Descripción: Utiliza un bucle for para imprimir los números del 1 al 5 (incluido) en orden ascendente."
   ]
  },
  {
   "cell_type": "code",
   "execution_count": 1,
   "metadata": {},
   "outputs": [
    {
     "name": "stdout",
     "output_type": "stream",
     "text": [
      "1\n",
      "2\n",
      "3\n",
      "4\n",
      "5\n"
     ]
    }
   ],
   "source": [
    "for x in range(1,6):\n",
    "    print(x)"
   ]
  },
  {
   "cell_type": "markdown",
   "metadata": {},
   "source": [
    "2.Calcular la suma de los primeros 10 números naturales utilizando un bucle for\n",
    "\n",
    "Descripción: Utiliza un bucle for para calcular la suma de los primeros 10 números naturales (1 + 2 + 3 + ... + 10)."
   ]
  },
  {
   "cell_type": "code",
   "execution_count": 2,
   "metadata": {},
   "outputs": [
    {
     "name": "stdout",
     "output_type": "stream",
     "text": [
      "1\n",
      "3\n",
      "6\n",
      "10\n",
      "15\n",
      "21\n",
      "28\n",
      "36\n",
      "45\n",
      "55\n"
     ]
    }
   ],
   "source": [
    "suma = 0\n",
    "\n",
    "for x in range(1,11):\n",
    "   suma = suma + x\n",
    "   print(suma)"
   ]
  },
  {
   "cell_type": "markdown",
   "metadata": {},
   "source": [
    "\n",
    "3.Calcular el producto de los elementos de una lista\n",
    "\n",
    "Descripción: Dada una lista de números, utiliza un bucle for para calcular el producto de todos los elementos."
   ]
  },
  {
   "cell_type": "code",
   "execution_count": 2,
   "metadata": {},
   "outputs": [
    {
     "name": "stdout",
     "output_type": "stream",
     "text": [
      "El producto de todos los elementos es de: 3628800\n"
     ]
    }
   ],
   "source": [
    "lista_numeros = [1,2,3,4,5,6,7,8,9,10]\n",
    "\n",
    "producto = 1\n",
    "\n",
    "for x in lista_numeros:\n",
    "   producto *= x\n",
    "print(f\"El producto de todos los elementos es de: {producto}\")"
   ]
  },
  {
   "cell_type": "markdown",
   "metadata": {},
   "source": [
    "\n",
    "4.Imprimir los caracteres de una cadena de texto\n",
    "\n",
    "Descripción: Dada una cadena de texto, utiliza un bucle for para imprimir cada carácter en una línea separada."
   ]
  },
  {
   "cell_type": "code",
   "execution_count": 6,
   "metadata": {},
   "outputs": [
    {
     "name": "stdout",
     "output_type": "stream",
     "text": [
      "c\n",
      "a\n",
      "m\n",
      "p\n",
      "a\n",
      "n\n",
      "a\n"
     ]
    }
   ],
   "source": [
    "cadena_texto = \"campana\"\n",
    "\n",
    "for letra in cadena_texto:\n",
    "     print(letra)"
   ]
  },
  {
   "cell_type": "markdown",
   "metadata": {},
   "source": [
    "\n",
    "5. Imprimir los números pares del 1 al 100 utilizando un bucle for\n",
    "\n",
    "Descripción: Utiliza un bucle for para imprimir los números pares del 1 al 100 en orden ascendente."
   ]
  },
  {
   "cell_type": "code",
   "execution_count": 8,
   "metadata": {},
   "outputs": [
    {
     "name": "stdout",
     "output_type": "stream",
     "text": [
      "0\n",
      "2\n",
      "4\n",
      "6\n",
      "8\n",
      "10\n",
      "12\n",
      "14\n",
      "16\n",
      "18\n",
      "20\n",
      "22\n",
      "24\n",
      "26\n",
      "28\n",
      "30\n",
      "32\n",
      "34\n",
      "36\n",
      "38\n",
      "40\n",
      "42\n",
      "44\n",
      "46\n",
      "48\n",
      "50\n",
      "52\n",
      "54\n",
      "56\n",
      "58\n",
      "60\n",
      "62\n",
      "64\n",
      "66\n",
      "68\n",
      "70\n",
      "72\n",
      "74\n",
      "76\n",
      "78\n",
      "80\n",
      "82\n",
      "84\n",
      "86\n",
      "88\n",
      "90\n",
      "92\n",
      "94\n",
      "96\n",
      "98\n",
      "100\n"
     ]
    }
   ],
   "source": [
    "for x in range(0,101,2):\n",
    "    print(x)"
   ]
  },
  {
   "cell_type": "markdown",
   "metadata": {},
   "source": [
    "\n",
    "6.Imprimir los números primos del 1 al 50 utilizando un bucle for\n",
    "\n",
    "Descripción: Utiliza un bucle for para imprimir los números primos del 1 al 50 en orden ascendente.\n",
    "\n",
    "NOTA: Según la Wikipedia, un número primo es un número natural mayor que 1 que no tiene divisores positivos más que 1 y él mismo."
   ]
  },
  {
   "cell_type": "code",
   "execution_count": 4,
   "metadata": {},
   "outputs": [
    {
     "name": "stdout",
     "output_type": "stream",
     "text": [
      "1 es primo\n",
      "3 no es primo\n",
      "4 no es primo\n",
      "5 no es primo\n",
      "6 no es primo\n",
      "7 no es primo\n",
      "8 no es primo\n",
      "9 no es primo\n",
      "10 no es primo\n",
      "11 no es primo\n",
      "12 no es primo\n",
      "13 no es primo\n",
      "14 no es primo\n",
      "15 no es primo\n",
      "16 no es primo\n",
      "17 no es primo\n",
      "18 no es primo\n",
      "19 no es primo\n",
      "20 no es primo\n",
      "21 no es primo\n",
      "22 no es primo\n",
      "23 no es primo\n",
      "24 no es primo\n",
      "25 no es primo\n",
      "26 no es primo\n",
      "27 no es primo\n",
      "28 no es primo\n",
      "29 no es primo\n",
      "30 no es primo\n",
      "31 no es primo\n",
      "32 no es primo\n",
      "33 no es primo\n",
      "34 no es primo\n",
      "35 no es primo\n",
      "36 no es primo\n",
      "37 no es primo\n",
      "38 no es primo\n",
      "39 no es primo\n",
      "40 no es primo\n",
      "41 no es primo\n",
      "42 no es primo\n",
      "43 no es primo\n",
      "44 no es primo\n",
      "45 no es primo\n",
      "46 no es primo\n",
      "47 no es primo\n",
      "48 no es primo\n",
      "49 no es primo\n",
      "50 no es primo\n",
      "La lista de números primos es: [1, 2]\n"
     ]
    }
   ],
   "source": [
    "lista_numeros_primos = []\n",
    "\n",
    "for num in range(1,51):\n",
    "     \n",
    "    if num==2:\n",
    "        lista_numeros_primos.append(num)\n",
    "    elif num % 2 == 0:\n",
    "        print(f\"{num} no es primo\")\n",
    "    else:\n",
    "        for primo in lista_numeros_primos:\n",
    "            if num % primo == 0:\n",
    "                \n",
    "                print(f\"{num} no es primo\")\n",
    "                break\n",
    "        else:\n",
    "            lista_numeros_primos.append(num)\n",
    "            print(f\"{num} es primo\")\n",
    "\n",
    "\n",
    "print(f\"La lista de números primos es: {lista_numeros_primos}\")\n"
   ]
  },
  {
   "cell_type": "markdown",
   "metadata": {},
   "source": [
    "7. Calcular el factorial de un número utilizando un bucle for\n",
    "\n",
    "Descripción: Dado un número entero positivo, calcula su factorial utilizando un bucle for."
   ]
  },
  {
   "cell_type": "code",
   "execution_count": 5,
   "metadata": {},
   "outputs": [
    {
     "name": "stdout",
     "output_type": "stream",
     "text": [
      "El factorial es: 1000000000\n"
     ]
    }
   ],
   "source": [
    "factorial = 1\n",
    "\n",
    "for i in range(1,10):\n",
    "\n",
    "   factorial = factorial *x\n",
    "\n",
    "print(f\"El factorial es: {factorial}\")"
   ]
  },
  {
   "cell_type": "markdown",
   "metadata": {},
   "source": [
    "8. Juego de adivinar palabras utilizando un bucle for\n",
    "\n",
    "Descripción: Crea un juego en el que el jugador debe adivinar una palabra secreta. El jugador tiene un número limitado de intentos y se le proporcionan pistas después de cada intento. Utiliza un bucle for para controlar los intentos del jugador."
   ]
  },
  {
   "cell_type": "code",
   "execution_count": 6,
   "metadata": {},
   "outputs": [
    {
     "name": "stdout",
     "output_type": "stream",
     "text": [
      "Ups... Ésa no es la palabra secreta.\n",
      "Te quedan 1 intentos.\n",
      "Ups... Ésa no es la palabra secreta.\n",
      "¡Perdiste!\n",
      "La palabra secreta era 'uva'\n"
     ]
    }
   ],
   "source": [
    "palabra_secreta = \"uva\"\n",
    "intentos = 2\n",
    "\n",
    "for intento in range(intentos):\n",
    "    palabra_elegida = input(f\"Intento {intento + 1}: Adivina la palabra secreta de tres letras: \")\n",
    "\n",
    "    if palabra_elegida == palabra_secreta:\n",
    "        print(\"¡Acertaste! Has adivinado la palabra secreta.\")\n",
    "        break  # Si el jugador adivina correctamente, salimos del bucle\n",
    "    else:\n",
    "\n",
    "        print(\"Ups... Ésa no es la palabra secreta.\")\n",
    "        if intento < intentos - 1:\n",
    "            print(f\"Te quedan {intentos - intento - 1} intentos.\")\n",
    "        else:\n",
    "            print(\"¡Perdiste!\")\n",
    "\n",
    "if palabra_elegida != palabra_secreta:\n",
    "    print(f\"La palabra secreta era '{palabra_secreta}'\")"
   ]
  },
  {
   "cell_type": "markdown",
   "metadata": {},
   "source": [
    "Ejercicios _list comprehension_\n",
    "\n",
    "1. Generar una lista de los números pares del 1 al 20.\n",
    "\n",
    "Descripción: Utiliza list comprehension para generar una lista que contenga todos los números pares en el rango del 1 al 20."
   ]
  },
  {
   "cell_type": "code",
   "execution_count": 8,
   "metadata": {},
   "outputs": [
    {
     "data": {
      "text/plain": [
       "[False,\n",
       " True,\n",
       " False,\n",
       " True,\n",
       " False,\n",
       " True,\n",
       " False,\n",
       " True,\n",
       " False,\n",
       " True,\n",
       " False,\n",
       " True,\n",
       " False,\n",
       " True,\n",
       " False,\n",
       " True,\n",
       " False,\n",
       " True,\n",
       " False,\n",
       " True]"
      ]
     },
     "execution_count": 8,
     "metadata": {},
     "output_type": "execute_result"
    }
   ],
   "source": [
    "numeros_pares = [i % 2 == 0 for i in range(1,21)]\n",
    "numeros_pares"
   ]
  },
  {
   "cell_type": "markdown",
   "metadata": {},
   "source": [
    "2. Obtener una lista de las vocales en una cadena de texto.\n",
    "\n",
    "Descripción: Utiliza list comprehension para crear una lista que contenga todas las vocales presentes en una cadena de texto (sin repetición)."
   ]
  },
  {
   "cell_type": "code",
   "execution_count": 13,
   "metadata": {},
   "outputs": [
    {
     "name": "stdout",
     "output_type": "stream",
     "text": [
      "Las vocales que hay en la frase son: {'a': 9, 'e': 3, 'i': 3, 'o': 3, 'u': 0}\n"
     ]
    }
   ],
   "source": [
    "# Frase: \"caminante no hay camino se hace camino al andar\"\n",
    "\n",
    "cadena = input(\"Escribe una frase: \").lower()\n",
    "\n",
    "vocales = {\"a\": 0, \"e\": 0, \"i\": 0, \"o\":0, \"u\": 0}\n",
    "\n",
    "for letra in cadena:\n",
    "    if letra in vocales:\n",
    "        vocales[letra] += 1\n",
    "\n",
    "print(f\"Las vocales que hay en la frase son: {vocales}\")"
   ]
  },
  {
   "cell_type": "markdown",
   "metadata": {},
   "source": [
    "3. Filtrar los números positivos de una lista y calcular su cuadrado.\n",
    "\n",
    "Descripción: Utiliza list comprehension para filtrar los números positivos de una lista y calcular el cuadrado de cada uno."
   ]
  },
  {
   "cell_type": "code",
   "execution_count": 17,
   "metadata": {},
   "outputs": [
    {
     "name": "stdout",
     "output_type": "stream",
     "text": [
      "El cuadrado es: [1, 4, 9, 16, 25, 36, 49, 64, 81]\n"
     ]
    }
   ],
   "source": [
    "lista_numeros = range(-2, 10)\n",
    "\n",
    "cuadrado = [numero ** 2 for numero in lista_numeros if numero > 0]\n",
    "\n",
    "print(f\"El cuadrado es: {cuadrado}\")"
   ]
  },
  {
   "cell_type": "markdown",
   "metadata": {},
   "source": [
    "Ejercicios try ...except\n",
    "\n",
    "1. Realizar una búsqueda en una lista y capturar una excepción en caso de valor no encontrado.\n",
    "\n",
    "Descripción: Solicita al usuario una lista de nombres y un nombre para buscar en la lista. Intenta encontrar el nombre en la lista y utiliza las sentencias try y except para capturar la excepción en caso de que el nombre no sea encontrado."
   ]
  },
  {
   "cell_type": "code",
   "execution_count": 18,
   "metadata": {},
   "outputs": [
    {
     "name": "stdout",
     "output_type": "stream",
     "text": [
      "El nombre 'fran' no se encuentra en la lista.\n"
     ]
    }
   ],
   "source": [
    "nombres = input(\"Introduce una lista de nombres\")\n",
    "\n",
    "buscar_nombre = input(\"Introduce el nombre que quieres buscar\")\n",
    "\n",
    "try:\n",
    "\n",
    "    indice = nombres.index(buscar_nombre)\n",
    "    print(f\"El nombre '{buscar_nombre}' se encuentra en la lista en la posición {indice}.\")\n",
    "\n",
    "except ValueError:\n",
    "    \n",
    "    print(f\"El nombre '{buscar_nombre}' no se encuentra en la lista.\")"
   ]
  }
 ],
 "metadata": {
  "kernelspec": {
   "display_name": "base",
   "language": "python",
   "name": "python3"
  },
  "language_info": {
   "codemirror_mode": {
    "name": "ipython",
    "version": 3
   },
   "file_extension": ".py",
   "mimetype": "text/x-python",
   "name": "python",
   "nbconvert_exporter": "python",
   "pygments_lexer": "ipython3",
   "version": "3.9.12"
  }
 },
 "nbformat": 4,
 "nbformat_minor": 2
}
